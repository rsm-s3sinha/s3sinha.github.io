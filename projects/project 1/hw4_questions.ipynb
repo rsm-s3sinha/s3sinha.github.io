{
  "cells": [
    {
      "cell_type": "raw",
      "metadata": {},
      "source": [
        "---\n",
        "title: \"Key Drivers Analysis\"\n",
        "author: \"Shefali Sinha\"\n",
        "date: today\n",
        "---"
      ],
      "id": "a345783a"
    },
    {
      "cell_type": "markdown",
      "metadata": {},
      "source": [
        "This post implements a few measure of variable importance, interpreted as a key drivers analysis, for certain aspects of a payment card on customer satisfaction with that payment card.\n"
      ],
      "id": "4292070e"
    },
    {
      "cell_type": "code",
      "metadata": {},
      "source": [
        "import pandas as pd\n",
        "\n",
        "# Load the dataset\n",
        "data_path = '../../files/data_for_drivers_analysis.csv'\n",
        "data = pd.read_csv(data_path)\n",
        "\n",
        "# Display the first few rows of the dataframe to inspect the columns\n",
        "data.head(), data.columns"
      ],
      "id": "cebeeb6e",
      "execution_count": null,
      "outputs": []
    },
    {
      "cell_type": "markdown",
      "metadata": {},
      "source": [
        "The dataset contains the following columns that map to the perceptions identified on the slide:\n",
        "\n",
        "**trust:** Is offered by a brand I trust\n",
        "\n",
        "**build:** Helps build credit quickly\n",
        "\n",
        "**differs:** Is different from other cards\n",
        "\n",
        "**easy:** Is easy to use\n",
        "\n",
        "**appealing:** Has appealing benefits or rewards\n",
        "\n",
        "**rewarding:** Rewards me for responsible usage\n",
        "\n",
        "**popular:** Is used by a lot of people\n",
        "\n",
        "**service:** Provides outstanding customer service\n",
        "\n",
        "**impact:** Makes a difference in my life\n",
        "\n",
        "### Pearson Correlations\n"
      ],
      "id": "b72444cc"
    },
    {
      "cell_type": "code",
      "metadata": {},
      "source": [
        "from scipy.stats import pearsonr\n",
        "\n",
        "# Define the perception variables\n",
        "perception_variables = ['trust', 'build', 'differs', 'easy', 'appealing', 'rewarding', 'popular', 'service', 'impact']\n",
        "\n",
        "# Calculate Pearson correlations for each perception with the satisfaction variable\n",
        "pearson_correlations = {var: pearsonr(data[var], data['satisfaction'])[0] for var in perception_variables}\n",
        "pearson_correlations"
      ],
      "id": "a27e1c41",
      "execution_count": null,
      "outputs": []
    },
    {
      "cell_type": "markdown",
      "metadata": {},
      "source": [
        "The Pearson correlations between each perception and overall satisfaction are as follows:\n",
        "\n",
        "- Is offered by a brand I trust: 0.256\n",
        "- Helps build credit quickly: 0.192\n",
        "- Is different from other cards: 0.185\n",
        "- Is easy to use: 0.213\n",
        "- Has appealing benefits or rewards: 0.208\n",
        "- Rewards me for responsible usage: 0.195\n",
        "- Is used by a lot of people: 0.171\n",
        "- Provides outstanding customer service: 0.251\n",
        "- Makes a difference in my life: 0.255\n",
        "\n",
        "### Linear Regression\n",
        "To determine the standardized multiple regression coefficients for each variable\n"
      ],
      "id": "4abfc2fb"
    },
    {
      "cell_type": "code",
      "metadata": {},
      "source": [
        "from sklearn.linear_model import LinearRegression\n",
        "from sklearn.preprocessing import StandardScaler\n",
        "\n",
        "# Standardize the variables\n",
        "scaler = StandardScaler()\n",
        "X = scaler.fit_transform(data[perception_variables])\n",
        "y = scaler.fit_transform(data[['satisfaction']].values.ravel().reshape(-1, 1)).ravel()\n",
        "\n",
        "# Fit a linear regression model\n",
        "model = LinearRegression()\n",
        "model.fit(X, y)\n",
        "\n",
        "# Get the standardized coefficients (beta values)\n",
        "standardized_coefficients = dict(zip(perception_variables, model.coef_))\n",
        "standardized_coefficients"
      ],
      "id": "2babd043",
      "execution_count": null,
      "outputs": []
    },
    {
      "cell_type": "markdown",
      "metadata": {},
      "source": [
        "The standardized multiple regression coefficients, which indicate the unique contribution of each perception to customer satisfaction while controlling for other perceptions, are as follows:\n",
        "\n",
        "- Is offered by a brand I trust: 0.116\n",
        "- Helps build credit quickly: 0.020\n",
        "- Is different from other cards: 0.028\n",
        "- Is easy to use: 0.022\n",
        "- Has appealing benefits or rewards: 0.034\n",
        "- Rewards me for responsible usage: 0.005\n",
        "- Is used by a lot of people: 0.017\n",
        "- Provides outstanding customer service: 0.088\n",
        "- Makes a difference in my life: 0.128\n",
        "\n",
        "### Johnson's Epsilon\n"
      ],
      "id": "9e10ac5b"
    },
    {
      "cell_type": "code",
      "metadata": {},
      "source": [
        "import numpy as np\n",
        "\n",
        "# Calculate R-squared of the full model\n",
        "full_model_r_squared = model.score(X, y)\n",
        "\n",
        "# Initialize dictionary to hold Johnson's Epsilon values\n",
        "johnsons_epsilon = {}\n",
        "\n",
        "# Calculate Johnson's Epsilon for each variable\n",
        "for i, var in enumerate(perception_variables):\n",
        "    # Exclude the current variable from the model\n",
        "    X_reduced = np.delete(X, i, axis=1)\n",
        "    \n",
        "    # Fit the reduced model\n",
        "    reduced_model = LinearRegression()\n",
        "    reduced_model.fit(X_reduced, y)\n",
        "    \n",
        "    # Calculate the R-squared of the reduced model\n",
        "    reduced_model_r_squared = reduced_model.score(X_reduced, y)\n",
        "    \n",
        "    # Johnson's Epsilon for the current variable\n",
        "    epsilon = full_model_r_squared - reduced_model_r_squared\n",
        "    johnsons_epsilon[var] = epsilon\n",
        "\n",
        "johnsons_epsilon"
      ],
      "id": "5f2e6aa9",
      "execution_count": null,
      "outputs": []
    },
    {
      "cell_type": "markdown",
      "metadata": {},
      "source": [
        "The Johnson's Epsilon values, which approximate the contribution of each variable to the model's \\( R^2 \\)\n",
        "when considered alongside other variables, are as follows:\n",
        "\n",
        "- Is offered by a brand I trust: 0.0082\n",
        "- Helps build credit quickly: 0.0003\n",
        "- Is different from other cards: 0.0006\n",
        "- Is easy to use: 0.0003\n",
        "- Has appealing benefits or rewards: 0.0007\n",
        "- Rewards me for responsible usage: 0.00002\n",
        "- Is used by a lot of people: 0.0002\n",
        "- Provides outstanding customer service: 0.0047\n",
        "- Makes a difference in my life: 0.0112\n",
        "\n",
        "### Mean Decrease in RF Gini Coefficient\n"
      ],
      "id": "8be027f5"
    },
    {
      "cell_type": "code",
      "metadata": {},
      "source": [
        "from sklearn.ensemble import RandomForestRegressor\n",
        "\n",
        "# Fit a random forest model\n",
        "rf_model = RandomForestRegressor(n_estimators=100)\n",
        "rf_model.fit(X, y)\n",
        "\n",
        "# Extract feature importance based on mean decrease in impurity\n",
        "rf_feature_importance = dict(zip(perception_variables, rf_model.feature_importances_))\n",
        "rf_feature_importance"
      ],
      "id": "c0eeb3e9",
      "execution_count": null,
      "outputs": []
    },
    {
      "cell_type": "markdown",
      "metadata": {},
      "source": [
        "The Mean Decrease in RF Gini Coefficient for each perception, derived from a Random Forest model, is as follows:\n",
        "\n",
        "- Is offered by a brand I trust: 15.5%\n",
        "- Helps build credit quickly: 10.0%\n",
        "- Is different from other cards: 9.2%\n",
        "- Is easy to use: 10.1%\n",
        "- Has appealing benefits or rewards: 8.3%\n",
        "- Rewards me for responsible usage: 10.1%\n",
        "- Is used by a lot of people: 9.8%\n",
        "- Provides outstanding customer service: 13.3%\n",
        "- Makes a difference in my life: 13.7%\n",
        "\n",
        "## Key Driver Analysis\n",
        "\n",
        "| **Perception**                          | **Pearson Correlations (%)** | **Standardized Regression Coefficients (%)** | **LMG / Shapley Values (Johnson's Epsilon) (%)** | **Mean Decrease in RF Gini Coefficient (%)** |\n",
        "|-----------------------------------------|-------------------------------|------------------------------------------------|--------------------------------------------------|-----------------------------------------------|\n",
        "| Is offered by a brand I trust           | 25.6                          | 11.6                                           | 0.82                                             | 15.5                                          |\n",
        "| Helps build credit quickly              | 19.2                          | 2.0                                            | 0.03                                             | 10.0                                          |\n",
        "| Is different from other cards           | 18.5                          | 2.8                                            | 0.06                                             | 9.2                                           |\n",
        "| Is easy to use                          | 21.3                          | 2.2                                            | 0.03                                             | 10.1                                          |\n",
        "| Has appealing benefits or rewards       | 20.8                          | 3.4                                            | 0.07                                             | 8.3                                           |\n",
        "| Rewards me for responsible usage        | 19.5                          | 0.5                                            | 0.002                                            | 10.1                                          |\n",
        "| Is used by a lot of people              | 17.1                          | 1.7                                            | 0.02                                             | 9.8                                           |\n",
        "| Provides outstanding customer service   | 25.1                          | 8.8                                            | 0.47                                             | 13.3                                          |\n",
        "| Makes a difference in my life           | 25.5                          | 12.8                                           | 1.12                                             | 13.7                                          |\n",
        "\n",
        "## Conclusion\n",
        "\n",
        "The analysis highlights that perceptions related to trust in the brand, the impact of the card on the user’s life, and outstanding customer service are most strongly associated with customer satisfaction.\n",
        "\n",
        "\n",
        "_If you want a challenge, either (1) implement one or more of the measures yourself. \"Usefulness\" is rather easy to program up. Shapley values for linear regression are a bit more work. Or (2) add additional measures to the table such as the importance scores from XGBoost._\n"
      ],
      "id": "236b4cda"
    }
  ],
  "metadata": {
    "kernelspec": {
      "name": "python3",
      "language": "python",
      "display_name": "Python 3 (ipykernel)"
    }
  },
  "nbformat": 4,
  "nbformat_minor": 5
}